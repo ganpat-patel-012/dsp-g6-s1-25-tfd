{
 "cells": [
  {
   "cell_type": "code",
   "execution_count": 14,
   "id": "81124b31-94e8-4b87-b551-86566a0605b4",
   "metadata": {},
   "outputs": [],
   "source": [
    "import pandas as pd\n",
    "import os"
   ]
  },
  {
   "cell_type": "code",
   "execution_count": 15,
   "id": "d560742d-99e2-4108-85ce-ef7ca2c48237",
   "metadata": {},
   "outputs": [
    {
     "name": "stdout",
     "output_type": "stream",
     "text": [
      "Splitting completed! 30000 files were generated.\n"
     ]
    }
   ],
   "source": [
    "import os\n",
    "import pandas as pd\n",
    "\n",
    "# Load the corrupted dataset\n",
    "input_file = \"/Users/jatinkumarparmar/Desktop/DSP/Project/flight_dataset_with_errors.csv\"\n",
    "output_folder = \"Folder_A\"\n",
    "os.makedirs(output_folder, exist_ok=True)\n",
    "\n",
    "# Read CSV with low_memory=False to handle mixed data types more efficiently\n",
    "df = pd.read_csv(input_file, low_memory=False)\n",
    "\n",
    "# Define total number of files\n",
    "num_files = 30000\n",
    "\n",
    "# Calculate number of rows per file\n",
    "rows_per_file = max(1, len(df) // num_files)  # Ensure at least 1 row per file\n",
    "\n",
    "# Split and save\n",
    "for i in range(num_files):\n",
    "    start = i * rows_per_file\n",
    "    end = start + rows_per_file\n",
    "    df_subset = df.iloc[start:end]\n",
    "\n",
    "    # Stop if there's no data left to save\n",
    "    if df_subset.empty:\n",
    "        break\n",
    "\n",
    "    df_subset.to_csv(f\"{output_folder}/split_{i+1}.csv\", index=False)\n",
    "\n",
    "print(f\"Splitting completed! {i+1} files were generated.\")"
   ]
  },
  {
   "cell_type": "code",
   "execution_count": null,
   "id": "bd09d812-8ced-4603-a5b6-845a088b7e02",
   "metadata": {},
   "outputs": [],
   "source": []
  }
 ],
 "metadata": {
  "kernelspec": {
   "display_name": "Python 3 (ipykernel)",
   "language": "python",
   "name": "python3"
  },
  "language_info": {
   "codemirror_mode": {
    "name": "ipython",
    "version": 3
   },
   "file_extension": ".py",
   "mimetype": "text/x-python",
   "name": "python",
   "nbconvert_exporter": "python",
   "pygments_lexer": "ipython3",
   "version": "3.9.21"
  }
 },
 "nbformat": 4,
 "nbformat_minor": 5
}
